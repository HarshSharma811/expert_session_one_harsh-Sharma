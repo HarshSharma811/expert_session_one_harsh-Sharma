{
 "cells": [
  {
   "cell_type": "code",
   "execution_count": null,
   "source": [
    "import json\r\n",
    "\r\n",
    "from prettytable import PrettyTable\r\n",
    "from stringMatcher import levenshtein_ratio_and_distance\r\n",
    "from time import time\r\n",
    "\r\n",
    "table = PrettyTable(field_names=[\"cast\", \"director\", \"genre\"])"
   ],
   "outputs": [],
   "metadata": {}
  },
  {
   "cell_type": "markdown",
   "source": [
    "# Load The database into the memory..."
   ],
   "metadata": {}
  },
  {
   "cell_type": "code",
   "execution_count": null,
   "source": [
    "data = json.load(open(\"movieData.json\", \"rb\"))"
   ],
   "outputs": [],
   "metadata": {}
  },
  {
   "cell_type": "markdown",
   "source": [
    "# Load the Global Secondary index in the memory..."
   ],
   "metadata": {}
  },
  {
   "cell_type": "code",
   "execution_count": null,
   "source": [
    "GIS = json.load(open(\"index_Title.json\", \"rb\"))"
   ],
   "outputs": [],
   "metadata": {}
  },
  {
   "cell_type": "markdown",
   "source": [
    "# Write a function to search the movies by Title"
   ],
   "metadata": {}
  },
  {
   "cell_type": "code",
   "execution_count": null,
   "source": [
    "def getClosestMatch(queryString):\r\n",
    "    #Initialize the time counter..\r\n",
    "    tic      = time()\r\n",
    "\r\n",
    "    # Find closest match of the queryString from the Global Secondary Index...\r\n",
    "    matchRatios          = [levenshtein_ratio_and_distance(queryString, KEY) for KEY, _ in GIS.items()]\r\n",
    "    bestMatchRatio       = max(matchRatios)\r\n",
    "\r\n",
    "     # If the best match ratio is less than 50% then we will assume that the records doesn't exist...\r\n",
    "    if (bestMatchRatio < 0.5):\r\n",
    "        return{\r\n",
    "            \"response code\" : 404,\r\n",
    "            \"search time\"   : f\"{time()-tic} seconds\",\r\n",
    "            \"message\"       : \"error\",\r\n",
    "            \"response body\" : \"no match found\"\r\n",
    "        }\r\n",
    "\r\n",
    "    # Otherwise...\r\n",
    "    bestMatchRatio_index = matchRatios.index(bestMatchRatio)\r\n",
    "\r\n",
    "    # Find the Title of the movie which is the best match to the queryString...\r\n",
    "    bestMatch_MovieTitle = list(GIS)[bestMatchRatio_index]\r\n",
    "    bestMatch_MovieID    = GIS[bestMatch_Title]\r\n",
    "\r\n",
    "    # Now we have title which is the primary key in our main data-store...\r\n",
    "    # Retrieve the details of the movie from the title\r\n",
    "    movieInfo            = data[str(bestMatch_Title)]\r\n",
    "\r\n",
    "    # Mark the search completion time...\r\n",
    "    toc                  = time()\r\n",
    "\r\n",
    "    # Add Movie Title to the response...\r\n",
    "    movieInfo[\"title\"] = bestMatch_Title\r\n",
    "    # Construct the response Model...\r\n",
    "    responseModel = {\r\n",
    "        \"response code\" : 200,\r\n",
    "        \"search time\"   : f\"{toc-tic} seconds\",\r\n",
    "        \"message\"       : \"success\",\r\n",
    "        \"response body\" : movieInfo\r\n",
    "    }\r\n",
    "\r\n",
    "    return responseModel"
   ],
   "outputs": [],
   "metadata": {}
  },
  {
   "cell_type": "markdown",
   "source": [
    "# Write a function to make a request and visualize the data returned by the search function..."
   ],
   "metadata": {}
  },
  {
   "cell_type": "code",
   "execution_count": null,
   "source": [
    "def request(movieToSearch=\"\"):\r\n",
    "    # Movie name should always be in a string...\r\n",
    "    movieToSearch = str(movieToSearch)\r\n",
    "    # Check if the movie name is valid...\r\n",
    "    if(movieToSearch.replace(\" \", \"\").strip() == \"\"):\r\n",
    "        return f\"Invalid Movie Name\"\r\n",
    "\r\n",
    "    # Make a request to fetch the movie info...\r\n",
    "    response = getClosestMatch(queryString = movieToSearch)\r\n",
    "\r\n",
    "    # Check the response code...\r\n",
    "    if response[\"response code\"] == 404:\r\n",
    "        return f\"ERROR: No records found\"\r\n",
    "\r\n",
    "    # Now we need to check if a user has given \r\n",
    "    data_to_print = f\"\\\r\n",
    "    Title          : {response['response body']['Title']}\\n\\\r\n",
    "    Genre          : {response['response body']['genre']}\\n\\\r\n",
    "    \"\r\n",
    "\r\n",
    "    print(data_to_print)\r\n",
    "    print(table)"
   ],
   "outputs": [],
   "metadata": {}
  },
  {
   "cell_type": "markdown",
   "source": [
    "# Finally Make a request..."
   ],
   "metadata": {}
  },
  {
   "cell_type": "code",
   "execution_count": null,
   "source": [
    "request(movieToSearch=\"states\")"
   ],
   "outputs": [],
   "metadata": {}
  }
 ],
 "metadata": {
  "orig_nbformat": 4,
  "language_info": {
   "name": "python",
   "version": "3.8.10",
   "mimetype": "text/x-python",
   "codemirror_mode": {
    "name": "ipython",
    "version": 3
   },
   "pygments_lexer": "ipython3",
   "nbconvert_exporter": "python",
   "file_extension": ".py"
  },
  "kernelspec": {
   "name": "python3",
   "display_name": "Python 3.8.10 64-bit"
  },
  "interpreter": {
   "hash": "f2575392019334285e0602a4035eec46b9260ee4c95297ea34ade6e3c8b8fcaf"
  }
 },
 "nbformat": 4,
 "nbformat_minor": 2
}